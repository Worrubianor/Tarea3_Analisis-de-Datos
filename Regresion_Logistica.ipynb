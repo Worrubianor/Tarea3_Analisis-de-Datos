{
 "cells": [
  {
   "cell_type": "code",
   "execution_count": 129,
   "id": "23dd96f6-1a6a-4ebb-9a42-0a6ac76b5c83",
   "metadata": {},
   "outputs": [],
   "source": [
    "#Cargar las librerias necesrias\n",
    "\n",
    "import pandas as pd # Manejo y análisis de estructuras de datos\n",
    "import numpy as np # Cálculo numérico y el análisis de datos\n",
    "import seaborn as sns # Creación gráficos estadísticos\n",
    "import matplotlib.pyplot as plt # Creación de gráficos en dos dimensiones\n",
    "\n",
    "# librerías de para implementar modelos de ciencia de datos\n",
    "from sklearn import metrics\n",
    "from sklearn.model_selection import train_test_split\n",
    "from sklearn.linear_model import LogisticRegression\n",
    "from sklearn.metrics import classification_report, confusion_matrix"
   ]
  },
  {
   "cell_type": "code",
   "execution_count": 130,
   "id": "db199fd5-8a93-4138-b877-25264c4d2696",
   "metadata": {},
   "outputs": [],
   "source": [
    "# lectura de datos en Python y lo cargamos en la variable Datos\n",
    "\n",
    "Pacientes = pd.read_csv('C:/Tarea3/heart_cleveland_upload.csv')"
   ]
  },
  {
   "cell_type": "code",
   "execution_count": 131,
   "id": "aae3edf6-c50c-40f1-ba77-43d986dce42a",
   "metadata": {
    "scrolled": true
   },
   "outputs": [
    {
     "data": {
      "text/html": [
       "<div>\n",
       "<style scoped>\n",
       "    .dataframe tbody tr th:only-of-type {\n",
       "        vertical-align: middle;\n",
       "    }\n",
       "\n",
       "    .dataframe tbody tr th {\n",
       "        vertical-align: top;\n",
       "    }\n",
       "\n",
       "    .dataframe thead th {\n",
       "        text-align: right;\n",
       "    }\n",
       "</style>\n",
       "<table border=\"1\" class=\"dataframe\">\n",
       "  <thead>\n",
       "    <tr style=\"text-align: right;\">\n",
       "      <th></th>\n",
       "      <th>Edad</th>\n",
       "      <th>Sexo</th>\n",
       "      <th>Tipo de dolor toracico</th>\n",
       "      <th>Presion arterial en reposo</th>\n",
       "      <th>Colesterol serico</th>\n",
       "      <th>Glucosemina en ayunas</th>\n",
       "      <th>Resultados electrocardiograficos en reposo</th>\n",
       "      <th>Frecuencia maxima alcanzada</th>\n",
       "      <th>Angina inducida por el ejercicio</th>\n",
       "      <th>Deprecion del segmento ST</th>\n",
       "      <th>Pendiente del ejercicio maximo segmento St</th>\n",
       "      <th>Numero de vasos principales</th>\n",
       "      <th>thal</th>\n",
       "      <th>Condicion</th>\n",
       "    </tr>\n",
       "  </thead>\n",
       "  <tbody>\n",
       "    <tr>\n",
       "      <th>0</th>\n",
       "      <td>69</td>\n",
       "      <td>1</td>\n",
       "      <td>0</td>\n",
       "      <td>160</td>\n",
       "      <td>234</td>\n",
       "      <td>1</td>\n",
       "      <td>2</td>\n",
       "      <td>131</td>\n",
       "      <td>0</td>\n",
       "      <td>0.1</td>\n",
       "      <td>1</td>\n",
       "      <td>1</td>\n",
       "      <td>0</td>\n",
       "      <td>0</td>\n",
       "    </tr>\n",
       "    <tr>\n",
       "      <th>1</th>\n",
       "      <td>69</td>\n",
       "      <td>0</td>\n",
       "      <td>0</td>\n",
       "      <td>140</td>\n",
       "      <td>239</td>\n",
       "      <td>0</td>\n",
       "      <td>0</td>\n",
       "      <td>151</td>\n",
       "      <td>0</td>\n",
       "      <td>1.8</td>\n",
       "      <td>0</td>\n",
       "      <td>2</td>\n",
       "      <td>0</td>\n",
       "      <td>0</td>\n",
       "    </tr>\n",
       "    <tr>\n",
       "      <th>2</th>\n",
       "      <td>66</td>\n",
       "      <td>0</td>\n",
       "      <td>0</td>\n",
       "      <td>150</td>\n",
       "      <td>226</td>\n",
       "      <td>0</td>\n",
       "      <td>0</td>\n",
       "      <td>114</td>\n",
       "      <td>0</td>\n",
       "      <td>2.6</td>\n",
       "      <td>2</td>\n",
       "      <td>0</td>\n",
       "      <td>0</td>\n",
       "      <td>0</td>\n",
       "    </tr>\n",
       "    <tr>\n",
       "      <th>3</th>\n",
       "      <td>65</td>\n",
       "      <td>1</td>\n",
       "      <td>0</td>\n",
       "      <td>138</td>\n",
       "      <td>282</td>\n",
       "      <td>1</td>\n",
       "      <td>2</td>\n",
       "      <td>174</td>\n",
       "      <td>0</td>\n",
       "      <td>1.4</td>\n",
       "      <td>1</td>\n",
       "      <td>1</td>\n",
       "      <td>0</td>\n",
       "      <td>1</td>\n",
       "    </tr>\n",
       "    <tr>\n",
       "      <th>4</th>\n",
       "      <td>64</td>\n",
       "      <td>1</td>\n",
       "      <td>0</td>\n",
       "      <td>110</td>\n",
       "      <td>211</td>\n",
       "      <td>0</td>\n",
       "      <td>2</td>\n",
       "      <td>144</td>\n",
       "      <td>1</td>\n",
       "      <td>1.8</td>\n",
       "      <td>1</td>\n",
       "      <td>0</td>\n",
       "      <td>0</td>\n",
       "      <td>0</td>\n",
       "    </tr>\n",
       "    <tr>\n",
       "      <th>...</th>\n",
       "      <td>...</td>\n",
       "      <td>...</td>\n",
       "      <td>...</td>\n",
       "      <td>...</td>\n",
       "      <td>...</td>\n",
       "      <td>...</td>\n",
       "      <td>...</td>\n",
       "      <td>...</td>\n",
       "      <td>...</td>\n",
       "      <td>...</td>\n",
       "      <td>...</td>\n",
       "      <td>...</td>\n",
       "      <td>...</td>\n",
       "      <td>...</td>\n",
       "    </tr>\n",
       "    <tr>\n",
       "      <th>95</th>\n",
       "      <td>60</td>\n",
       "      <td>0</td>\n",
       "      <td>2</td>\n",
       "      <td>120</td>\n",
       "      <td>178</td>\n",
       "      <td>1</td>\n",
       "      <td>0</td>\n",
       "      <td>96</td>\n",
       "      <td>0</td>\n",
       "      <td>0.0</td>\n",
       "      <td>0</td>\n",
       "      <td>0</td>\n",
       "      <td>0</td>\n",
       "      <td>0</td>\n",
       "    </tr>\n",
       "    <tr>\n",
       "      <th>96</th>\n",
       "      <td>59</td>\n",
       "      <td>1</td>\n",
       "      <td>2</td>\n",
       "      <td>126</td>\n",
       "      <td>218</td>\n",
       "      <td>1</td>\n",
       "      <td>0</td>\n",
       "      <td>134</td>\n",
       "      <td>0</td>\n",
       "      <td>2.2</td>\n",
       "      <td>1</td>\n",
       "      <td>1</td>\n",
       "      <td>1</td>\n",
       "      <td>1</td>\n",
       "    </tr>\n",
       "    <tr>\n",
       "      <th>97</th>\n",
       "      <td>59</td>\n",
       "      <td>1</td>\n",
       "      <td>2</td>\n",
       "      <td>150</td>\n",
       "      <td>212</td>\n",
       "      <td>1</td>\n",
       "      <td>0</td>\n",
       "      <td>157</td>\n",
       "      <td>0</td>\n",
       "      <td>1.6</td>\n",
       "      <td>0</td>\n",
       "      <td>0</td>\n",
       "      <td>0</td>\n",
       "      <td>0</td>\n",
       "    </tr>\n",
       "    <tr>\n",
       "      <th>98</th>\n",
       "      <td>58</td>\n",
       "      <td>1</td>\n",
       "      <td>2</td>\n",
       "      <td>112</td>\n",
       "      <td>230</td>\n",
       "      <td>0</td>\n",
       "      <td>2</td>\n",
       "      <td>165</td>\n",
       "      <td>0</td>\n",
       "      <td>2.5</td>\n",
       "      <td>1</td>\n",
       "      <td>1</td>\n",
       "      <td>2</td>\n",
       "      <td>1</td>\n",
       "    </tr>\n",
       "    <tr>\n",
       "      <th>99</th>\n",
       "      <td>58</td>\n",
       "      <td>1</td>\n",
       "      <td>2</td>\n",
       "      <td>105</td>\n",
       "      <td>240</td>\n",
       "      <td>0</td>\n",
       "      <td>2</td>\n",
       "      <td>154</td>\n",
       "      <td>1</td>\n",
       "      <td>0.6</td>\n",
       "      <td>1</td>\n",
       "      <td>0</td>\n",
       "      <td>2</td>\n",
       "      <td>0</td>\n",
       "    </tr>\n",
       "  </tbody>\n",
       "</table>\n",
       "<p>100 rows × 14 columns</p>\n",
       "</div>"
      ],
      "text/plain": [
       "    Edad  Sexo  Tipo de dolor toracico  Presion arterial en reposo  \\\n",
       "0     69     1                       0                         160   \n",
       "1     69     0                       0                         140   \n",
       "2     66     0                       0                         150   \n",
       "3     65     1                       0                         138   \n",
       "4     64     1                       0                         110   \n",
       "..   ...   ...                     ...                         ...   \n",
       "95    60     0                       2                         120   \n",
       "96    59     1                       2                         126   \n",
       "97    59     1                       2                         150   \n",
       "98    58     1                       2                         112   \n",
       "99    58     1                       2                         105   \n",
       "\n",
       "    Colesterol serico  Glucosemina en ayunas  \\\n",
       "0                 234                      1   \n",
       "1                 239                      0   \n",
       "2                 226                      0   \n",
       "3                 282                      1   \n",
       "4                 211                      0   \n",
       "..                ...                    ...   \n",
       "95                178                      1   \n",
       "96                218                      1   \n",
       "97                212                      1   \n",
       "98                230                      0   \n",
       "99                240                      0   \n",
       "\n",
       "    Resultados electrocardiograficos en reposo  Frecuencia maxima alcanzada  \\\n",
       "0                                            2                          131   \n",
       "1                                            0                          151   \n",
       "2                                            0                          114   \n",
       "3                                            2                          174   \n",
       "4                                            2                          144   \n",
       "..                                         ...                          ...   \n",
       "95                                           0                           96   \n",
       "96                                           0                          134   \n",
       "97                                           0                          157   \n",
       "98                                           2                          165   \n",
       "99                                           2                          154   \n",
       "\n",
       "    Angina inducida por el ejercicio  Deprecion del segmento ST  \\\n",
       "0                                  0                        0.1   \n",
       "1                                  0                        1.8   \n",
       "2                                  0                        2.6   \n",
       "3                                  0                        1.4   \n",
       "4                                  1                        1.8   \n",
       "..                               ...                        ...   \n",
       "95                                 0                        0.0   \n",
       "96                                 0                        2.2   \n",
       "97                                 0                        1.6   \n",
       "98                                 0                        2.5   \n",
       "99                                 1                        0.6   \n",
       "\n",
       "    Pendiente del ejercicio maximo segmento St  Numero de vasos principales  \\\n",
       "0                                            1                            1   \n",
       "1                                            0                            2   \n",
       "2                                            2                            0   \n",
       "3                                            1                            1   \n",
       "4                                            1                            0   \n",
       "..                                         ...                          ...   \n",
       "95                                           0                            0   \n",
       "96                                           1                            1   \n",
       "97                                           0                            0   \n",
       "98                                           1                            1   \n",
       "99                                           1                            0   \n",
       "\n",
       "    thal  Condicion  \n",
       "0      0          0  \n",
       "1      0          0  \n",
       "2      0          0  \n",
       "3      0          1  \n",
       "4      0          0  \n",
       "..   ...        ...  \n",
       "95     0          0  \n",
       "96     1          1  \n",
       "97     0          0  \n",
       "98     2          1  \n",
       "99     2          0  \n",
       "\n",
       "[100 rows x 14 columns]"
      ]
     },
     "execution_count": 131,
     "metadata": {},
     "output_type": "execute_result"
    }
   ],
   "source": [
    "# Realizamos lectura de los Datos para el análisis exploratorio\n",
    "\n",
    "Pacientes.head(100)"
   ]
  },
  {
   "cell_type": "code",
   "execution_count": 132,
   "id": "cf546b85-1883-46d2-b800-41e66d1f77e0",
   "metadata": {},
   "outputs": [
    {
     "data": {
      "text/html": [
       "<div>\n",
       "<style scoped>\n",
       "    .dataframe tbody tr th:only-of-type {\n",
       "        vertical-align: middle;\n",
       "    }\n",
       "\n",
       "    .dataframe tbody tr th {\n",
       "        vertical-align: top;\n",
       "    }\n",
       "\n",
       "    .dataframe thead th {\n",
       "        text-align: right;\n",
       "    }\n",
       "</style>\n",
       "<table border=\"1\" class=\"dataframe\">\n",
       "  <thead>\n",
       "    <tr style=\"text-align: right;\">\n",
       "      <th></th>\n",
       "      <th>Edad</th>\n",
       "      <th>Sexo</th>\n",
       "      <th>Tipo de dolor toracico</th>\n",
       "      <th>Presion arterial en reposo</th>\n",
       "      <th>Colesterol serico</th>\n",
       "      <th>Glucosemina en ayunas</th>\n",
       "      <th>Resultados electrocardiograficos en reposo</th>\n",
       "      <th>Frecuencia maxima alcanzada</th>\n",
       "      <th>Angina inducida por el ejercicio</th>\n",
       "      <th>Deprecion del segmento ST</th>\n",
       "      <th>Pendiente del ejercicio maximo segmento St</th>\n",
       "      <th>Numero de vasos principales</th>\n",
       "      <th>thal</th>\n",
       "      <th>Condicion</th>\n",
       "    </tr>\n",
       "  </thead>\n",
       "  <tbody>\n",
       "    <tr>\n",
       "      <th>count</th>\n",
       "      <td>297.000000</td>\n",
       "      <td>297.000000</td>\n",
       "      <td>297.000000</td>\n",
       "      <td>297.000000</td>\n",
       "      <td>297.000000</td>\n",
       "      <td>297.000000</td>\n",
       "      <td>297.000000</td>\n",
       "      <td>297.000000</td>\n",
       "      <td>297.000000</td>\n",
       "      <td>297.000000</td>\n",
       "      <td>297.000000</td>\n",
       "      <td>297.000000</td>\n",
       "      <td>297.000000</td>\n",
       "      <td>297.000000</td>\n",
       "    </tr>\n",
       "    <tr>\n",
       "      <th>mean</th>\n",
       "      <td>54.542088</td>\n",
       "      <td>0.676768</td>\n",
       "      <td>2.158249</td>\n",
       "      <td>131.693603</td>\n",
       "      <td>247.350168</td>\n",
       "      <td>0.144781</td>\n",
       "      <td>0.996633</td>\n",
       "      <td>149.599327</td>\n",
       "      <td>0.326599</td>\n",
       "      <td>1.055556</td>\n",
       "      <td>0.602694</td>\n",
       "      <td>0.676768</td>\n",
       "      <td>0.835017</td>\n",
       "      <td>0.461279</td>\n",
       "    </tr>\n",
       "    <tr>\n",
       "      <th>std</th>\n",
       "      <td>9.049736</td>\n",
       "      <td>0.468500</td>\n",
       "      <td>0.964859</td>\n",
       "      <td>17.762806</td>\n",
       "      <td>51.997583</td>\n",
       "      <td>0.352474</td>\n",
       "      <td>0.994914</td>\n",
       "      <td>22.941562</td>\n",
       "      <td>0.469761</td>\n",
       "      <td>1.166123</td>\n",
       "      <td>0.618187</td>\n",
       "      <td>0.938965</td>\n",
       "      <td>0.956690</td>\n",
       "      <td>0.499340</td>\n",
       "    </tr>\n",
       "    <tr>\n",
       "      <th>min</th>\n",
       "      <td>29.000000</td>\n",
       "      <td>0.000000</td>\n",
       "      <td>0.000000</td>\n",
       "      <td>94.000000</td>\n",
       "      <td>126.000000</td>\n",
       "      <td>0.000000</td>\n",
       "      <td>0.000000</td>\n",
       "      <td>71.000000</td>\n",
       "      <td>0.000000</td>\n",
       "      <td>0.000000</td>\n",
       "      <td>0.000000</td>\n",
       "      <td>0.000000</td>\n",
       "      <td>0.000000</td>\n",
       "      <td>0.000000</td>\n",
       "    </tr>\n",
       "    <tr>\n",
       "      <th>25%</th>\n",
       "      <td>48.000000</td>\n",
       "      <td>0.000000</td>\n",
       "      <td>2.000000</td>\n",
       "      <td>120.000000</td>\n",
       "      <td>211.000000</td>\n",
       "      <td>0.000000</td>\n",
       "      <td>0.000000</td>\n",
       "      <td>133.000000</td>\n",
       "      <td>0.000000</td>\n",
       "      <td>0.000000</td>\n",
       "      <td>0.000000</td>\n",
       "      <td>0.000000</td>\n",
       "      <td>0.000000</td>\n",
       "      <td>0.000000</td>\n",
       "    </tr>\n",
       "    <tr>\n",
       "      <th>50%</th>\n",
       "      <td>56.000000</td>\n",
       "      <td>1.000000</td>\n",
       "      <td>2.000000</td>\n",
       "      <td>130.000000</td>\n",
       "      <td>243.000000</td>\n",
       "      <td>0.000000</td>\n",
       "      <td>1.000000</td>\n",
       "      <td>153.000000</td>\n",
       "      <td>0.000000</td>\n",
       "      <td>0.800000</td>\n",
       "      <td>1.000000</td>\n",
       "      <td>0.000000</td>\n",
       "      <td>0.000000</td>\n",
       "      <td>0.000000</td>\n",
       "    </tr>\n",
       "    <tr>\n",
       "      <th>75%</th>\n",
       "      <td>61.000000</td>\n",
       "      <td>1.000000</td>\n",
       "      <td>3.000000</td>\n",
       "      <td>140.000000</td>\n",
       "      <td>276.000000</td>\n",
       "      <td>0.000000</td>\n",
       "      <td>2.000000</td>\n",
       "      <td>166.000000</td>\n",
       "      <td>1.000000</td>\n",
       "      <td>1.600000</td>\n",
       "      <td>1.000000</td>\n",
       "      <td>1.000000</td>\n",
       "      <td>2.000000</td>\n",
       "      <td>1.000000</td>\n",
       "    </tr>\n",
       "    <tr>\n",
       "      <th>max</th>\n",
       "      <td>77.000000</td>\n",
       "      <td>1.000000</td>\n",
       "      <td>3.000000</td>\n",
       "      <td>200.000000</td>\n",
       "      <td>564.000000</td>\n",
       "      <td>1.000000</td>\n",
       "      <td>2.000000</td>\n",
       "      <td>202.000000</td>\n",
       "      <td>1.000000</td>\n",
       "      <td>6.200000</td>\n",
       "      <td>2.000000</td>\n",
       "      <td>3.000000</td>\n",
       "      <td>2.000000</td>\n",
       "      <td>1.000000</td>\n",
       "    </tr>\n",
       "  </tbody>\n",
       "</table>\n",
       "</div>"
      ],
      "text/plain": [
       "             Edad        Sexo  Tipo de dolor toracico  \\\n",
       "count  297.000000  297.000000              297.000000   \n",
       "mean    54.542088    0.676768                2.158249   \n",
       "std      9.049736    0.468500                0.964859   \n",
       "min     29.000000    0.000000                0.000000   \n",
       "25%     48.000000    0.000000                2.000000   \n",
       "50%     56.000000    1.000000                2.000000   \n",
       "75%     61.000000    1.000000                3.000000   \n",
       "max     77.000000    1.000000                3.000000   \n",
       "\n",
       "       Presion arterial en reposo  Colesterol serico  Glucosemina en ayunas  \\\n",
       "count                  297.000000         297.000000             297.000000   \n",
       "mean                   131.693603         247.350168               0.144781   \n",
       "std                     17.762806          51.997583               0.352474   \n",
       "min                     94.000000         126.000000               0.000000   \n",
       "25%                    120.000000         211.000000               0.000000   \n",
       "50%                    130.000000         243.000000               0.000000   \n",
       "75%                    140.000000         276.000000               0.000000   \n",
       "max                    200.000000         564.000000               1.000000   \n",
       "\n",
       "       Resultados electrocardiograficos en reposo  \\\n",
       "count                                  297.000000   \n",
       "mean                                     0.996633   \n",
       "std                                      0.994914   \n",
       "min                                      0.000000   \n",
       "25%                                      0.000000   \n",
       "50%                                      1.000000   \n",
       "75%                                      2.000000   \n",
       "max                                      2.000000   \n",
       "\n",
       "       Frecuencia maxima alcanzada  Angina inducida por el ejercicio  \\\n",
       "count                   297.000000                        297.000000   \n",
       "mean                    149.599327                          0.326599   \n",
       "std                      22.941562                          0.469761   \n",
       "min                      71.000000                          0.000000   \n",
       "25%                     133.000000                          0.000000   \n",
       "50%                     153.000000                          0.000000   \n",
       "75%                     166.000000                          1.000000   \n",
       "max                     202.000000                          1.000000   \n",
       "\n",
       "       Deprecion del segmento ST  Pendiente del ejercicio maximo segmento St  \\\n",
       "count                 297.000000                                  297.000000   \n",
       "mean                    1.055556                                    0.602694   \n",
       "std                     1.166123                                    0.618187   \n",
       "min                     0.000000                                    0.000000   \n",
       "25%                     0.000000                                    0.000000   \n",
       "50%                     0.800000                                    1.000000   \n",
       "75%                     1.600000                                    1.000000   \n",
       "max                     6.200000                                    2.000000   \n",
       "\n",
       "       Numero de vasos principales        thal   Condicion  \n",
       "count                   297.000000  297.000000  297.000000  \n",
       "mean                      0.676768    0.835017    0.461279  \n",
       "std                       0.938965    0.956690    0.499340  \n",
       "min                       0.000000    0.000000    0.000000  \n",
       "25%                       0.000000    0.000000    0.000000  \n",
       "50%                       0.000000    0.000000    0.000000  \n",
       "75%                       1.000000    2.000000    1.000000  \n",
       "max                       3.000000    2.000000    1.000000  "
      ]
     },
     "execution_count": 132,
     "metadata": {},
     "output_type": "execute_result"
    }
   ],
   "source": [
    "# Descripción de los datos\n",
    "Pacientes.describe()"
   ]
  },
  {
   "cell_type": "code",
   "execution_count": 133,
   "id": "8e3f7adc-6ae1-4e86-9631-c00ae2dd8f58",
   "metadata": {},
   "outputs": [
    {
     "data": {
      "text/plain": [
       "Text(0.5, 1.0, 'Identificación de Datos Faltantes y Atípicos')"
      ]
     },
     "execution_count": 133,
     "metadata": {},
     "output_type": "execute_result"
    },
    {
     "data": {
      "image/png": "[encoded data removed]",
      "text/plain": [
       "<Figure size 600x300 with 1 Axes>"
      ]
     },
     "metadata": {},
     "output_type": "display_data"
    }
   ],
   "source": [
    "#Identificación de Datos Faltantes y Atípicos \"Precion arteral en reposo\"\n",
    "\n",
    "plt.figure(figsize=(6, 3))\n",
    "sns.boxplot(x=Pacientes['Presion arterial en reposo'])\n",
    "plt.title('Identificación de Datos Faltantes y Atípicos', fontsize=10 )"
   ]
  },
  {
   "cell_type": "code",
   "execution_count": 134,
   "id": "6ae15201-3702-4f48-aff4-48a2dc69b011",
   "metadata": {},
   "outputs": [
    {
     "data": {
      "text/plain": [
       "Text(0.5, 1.0, 'Identificación de Datos Faltantes y Atípicos')"
      ]
     },
     "execution_count": 134,
     "metadata": {},
     "output_type": "execute_result"
    },
    {
     "data": {
      "image/png": "[encoded data removed]",
      "text/plain": [
       "<Figure size 600x300 with 1 Axes>"
      ]
     },
     "metadata": {},
     "output_type": "display_data"
    }
   ],
   "source": [
    "#Identificación de Datos Faltantes y Atípicos \"Colesterol serico\"\n",
    "\n",
    "plt.figure(figsize=(6, 3))\n",
    "sns.boxplot(x=Pacientes['Colesterol serico'])\n",
    "plt.title('Identificación de Datos Faltantes y Atípicos', fontsize=10 )"
   ]
  },
  {
   "cell_type": "code",
   "execution_count": 135,
   "id": "2cbb6029-94c1-40ee-baf4-6ee3a2f05239",
   "metadata": {},
   "outputs": [
    {
     "data": {
      "text/plain": [
       "Text(0.5, 1.0, 'Identificación de Datos Faltantes y Atípicos')"
      ]
     },
     "execution_count": 135,
     "metadata": {},
     "output_type": "execute_result"
    },
    {
     "data": {
      "image/png": "[encoded data removed]",
      "text/plain": [
       "<Figure size 600x300 with 1 Axes>"
      ]
     },
     "metadata": {},
     "output_type": "display_data"
    }
   ],
   "source": [
    "#Identificación de Datos Faltantes y Atípicos \"Frecuencia maxima alcanzada\"\n",
    "\n",
    "plt.figure(figsize=(6, 3))\n",
    "sns.boxplot(x=Pacientes['Frecuencia maxima alcanzada'])\n",
    "plt.title('Identificación de Datos Faltantes y Atípicos', fontsize=10 )"
   ]
  },
  {
   "cell_type": "code",
   "execution_count": 136,
   "id": "1a368543-aeeb-430a-a650-01e78dbc7189",
   "metadata": {},
   "outputs": [
    {
     "name": "stdout",
     "output_type": "stream",
     "text": [
      "Cantidad de Registros con cero en Precion Arterial en Reposo:  0\n",
      "Cantidad de Registros con cero en Colesterol Serico:  0\n",
      "Cantidad de Registros con cero en Frecuencia Maxima Alcanzada:  0\n"
     ]
    }
   ],
   "source": [
    "#Revisión de datos faltantes\n",
    "\n",
    "print(\"Cantidad de Registros con cero en Precion Arterial en Reposo: \",Pacientes['Presion arterial en reposo'].isin([0]).sum())\n",
    "print(\"Cantidad de Registros con cero en Colesterol Serico: \",Pacientes['Colesterol serico'].isin([0]).sum())\n",
    "print(\"Cantidad de Registros con cero en Frecuencia Maxima Alcanzada: \",Pacientes['Frecuencia maxima alcanzada'].isin([0]).sum())"
   ]
  },
  {
   "cell_type": "code",
   "execution_count": 137,
   "id": "7180c09e-8ceb-454a-9047-0db4ed49d716",
   "metadata": {},
   "outputs": [],
   "source": [
    "# Reemplazar todos los ceros con el valor medio (promedio) de la columna.\n",
    "\n",
    "Pacientes['Presion arterial en reposo']=Pacientes['Presion arterial en reposo'].replace(0,Pacientes['Presion arterial en reposo'].mean())\n",
    "Pacientes['Colesterol serico']=Pacientes['Colesterol serico'].replace(0,Pacientes['Colesterol serico'].mean())\n",
    "Pacientes['Frecuencia maxima alcanzada']=Pacientes['Frecuencia maxima alcanzada'].replace(0,Pacientes['Frecuencia maxima alcanzada'].mean())"
   ]
  },
  {
   "cell_type": "code",
   "execution_count": 138,
   "id": "1ba47aa4-410c-48e8-b895-b690e9547b84",
   "metadata": {},
   "outputs": [
    {
     "name": "stdout",
     "output_type": "stream",
     "text": [
      "Cantidad de Registros con cero en Precion Arterial en Reposo:  0\n",
      "Cantidad de Registros con cero en Colesterol Serico:  0\n",
      "Cantidad de Registros con cero en Frecuencia Maxima Alcanzada:  0\n"
     ]
    }
   ],
   "source": [
    "#Revisión nuevamente de datos faltantes\n",
    "\n",
    "print(\"Cantidad de Registros con cero en Precion Arterial en Reposo: \",Pacientes['Presion arterial en reposo'].isin([0]).sum())\n",
    "print(\"Cantidad de Registros con cero en Colesterol Serico: \",Pacientes['Colesterol serico'].isin([0]).sum())\n",
    "print(\"Cantidad de Registros con cero en Frecuencia Maxima Alcanzada: \",Pacientes['Frecuencia maxima alcanzada'].isin([0]).sum())"
   ]
  },
  {
   "cell_type": "code",
   "execution_count": 139,
   "id": "2ac6b064-1ce1-428e-9e85-f3fdf454c48f",
   "metadata": {},
   "outputs": [
    {
     "data": {
      "text/plain": [
       "Text(0.5, 1.0, 'Identificación de Datos Atípicos')"
      ]
     },
     "execution_count": 139,
     "metadata": {},
     "output_type": "execute_result"
    },
    {
     "data": {
      "image/png": "[encoded data removed]",
      "text/plain": [
       "<Figure size 600x300 with 1 Axes>"
      ]
     },
     "metadata": {},
     "output_type": "display_data"
    }
   ],
   "source": [
    "#Identificación de Datos Atípicos \"Precion arteral en reposo\"\n",
    "\n",
    "plt.figure(figsize=(6, 3))\n",
    "sns.boxplot(x=Pacientes['Presion arterial en reposo'])\n",
    "plt.title('Identificación de Datos Atípicos', fontsize=10 )"
   ]
  },
  {
   "cell_type": "code",
   "execution_count": 140,
   "id": "a0285ca7-6e8f-47ea-81cf-aa2829d1e794",
   "metadata": {},
   "outputs": [
    {
     "data": {
      "text/plain": [
       "Text(0.5, 1.0, 'Identificación de Datos Atípicos')"
      ]
     },
     "execution_count": 140,
     "metadata": {},
     "output_type": "execute_result"
    },
    {
     "data": {
      "image/png": "[encoded data removed]",
      "text/plain": [
       "<Figure size 600x300 with 1 Axes>"
      ]
     },
     "metadata": {},
     "output_type": "display_data"
    }
   ],
   "source": [
    "#Identificación de Datos Atípicos \"Colesterol serico\"\n",
    "\n",
    "plt.figure(figsize=(6, 3))\n",
    "sns.boxplot(x=Pacientes['Colesterol serico'])\n",
    "plt.title('Identificación de Datos Atípicos', fontsize=10 )"
   ]
  },
  {
   "cell_type": "code",
   "execution_count": 141,
   "id": "cc516433-cc0f-46b4-9f0e-e1e4b18dbb65",
   "metadata": {},
   "outputs": [
    {
     "data": {
      "text/plain": [
       "Text(0.5, 1.0, 'Identificación de Datos Atípicos')"
      ]
     },
     "execution_count": 141,
     "metadata": {},
     "output_type": "execute_result"
    },
    {
     "data": {
      "image/png": "[encoded data removed]",
      "text/plain": [
       "<Figure size 600x300 with 1 Axes>"
      ]
     },
     "metadata": {},
     "output_type": "display_data"
    }
   ],
   "source": [
    "#Identificación de Datos Atípicos \"Frecuencia maxima alcanzada\"\n",
    "\n",
    "plt.figure(figsize=(6, 3))\n",
    "sns.boxplot(x=Pacientes['Frecuencia maxima alcanzada'])\n",
    "plt.title('Identificación de Datos Atípicos', fontsize=10 )"
   ]
  },
  {
   "cell_type": "code",
   "execution_count": 142,
   "id": "17295a1f-ec80-43ab-aada-c2ae48e2ab7e",
   "metadata": {},
   "outputs": [
    {
     "name": "stdout",
     "output_type": "stream",
     "text": [
      "El total de datos atípicos de Precion arteral en reposo es 35\n",
      "El total de datos atípicos de Colesterol serico es 44\n",
      "El total de datos atípicos de la Frecuencia maxima alcanzada es 1\n"
     ]
    }
   ],
   "source": [
    "#Conteo de Datos Atípicos \"Precion arteral en reposo\"\n",
    "Presion_minimo=70\n",
    "Presion_maximo=150\n",
    "Total_Atipicos=((Pacientes['Presion arterial en reposo']<Presion_minimo)|(Pacientes['Presion arterial en reposo']>Presion_maximo)).sum()\n",
    "print(\"El total de datos atípicos de Precion arteral en reposo es {}\".format(Total_Atipicos))\n",
    "\n",
    "#Conteo de Datos Atípicos \"Colesterol serico\"\n",
    "Colesterol_minimo=120\n",
    "Colesterol_maximo=300\n",
    "Total_Atipicos=((Pacientes['Colesterol serico']<Colesterol_minimo)|(Pacientes['Colesterol serico']>Colesterol_maximo)).sum()\n",
    "print(\"El total de datos atípicos de Colesterol serico es {}\".format(Total_Atipicos))\n",
    "\n",
    "#Conteo de Datos Atípicos \"Frecuencia maxima alcanzada\"\n",
    "Frecuencia_minimo=70\n",
    "Frecuencia_maximo=200\n",
    "Total_Atipicos=((Pacientes['Frecuencia maxima alcanzada']<Frecuencia_minimo)|(Pacientes['Frecuencia maxima alcanzada']>Frecuencia_maximo)).sum()\n",
    "print(\"El total de datos atípicos de la Frecuencia maxima alcanzada es {}\".format(Total_Atipicos))\n"
   ]
  },
  {
   "cell_type": "code",
   "execution_count": 143,
   "id": "f1355b30-0fdd-4c09-85dd-7698ef9d9d69",
   "metadata": {},
   "outputs": [],
   "source": [
    "# Filtra Datos Atípicos \"Precion arteral en reposo\"\n",
    "Pacientes=Pacientes[(Pacientes['Presion arterial en reposo']<Presion_maximo)&(Pacientes['Presion arterial en reposo']>Presion_minimo)]\n",
    "\n",
    "# Filtra Datos Atípicos \"Colesterol serico\"\n",
    "Pacientes=Pacientes[(Pacientes['Colesterol serico']<Colesterol_maximo)&(Pacientes['Colesterol serico']>Colesterol_minimo)]\n",
    "\n",
    "# Filtra Datos Atípicos \"Frecuencia maxima alcanzada\"\n",
    "Pacientes=Pacientes[(Pacientes['Frecuencia maxima alcanzada']<Frecuencia_maximo)&(Pacientes['Frecuencia maxima alcanzada']>Frecuencia_minimo)]\n"
   ]
  },
  {
   "cell_type": "code",
   "execution_count": 144,
   "id": "6b04ee85-3696-4384-bfc2-cff1d53c7173",
   "metadata": {},
   "outputs": [
    {
     "name": "stdout",
     "output_type": "stream",
     "text": [
      "El total de datos atípicos de Precion arteral en reposo es 0\n",
      "El total de datos atípicos de Colesterol serico es 0\n",
      "El total de datos atípicos de la Frecuencia maxima alcanzada es 0\n"
     ]
    }
   ],
   "source": [
    "# Validar si se removieron los datos atípicos \"Precion arteral en reposo\"\n",
    "Total_Atipicos=((Pacientes['Presion arterial en reposo']<Presion_minimo)|(Pacientes['Presion arterial en reposo']>Presion_maximo)).sum()\n",
    "print(\"El total de datos atípicos de Precion arteral en reposo es {}\".format(Total_Atipicos))\n",
    "\n",
    "# Validar si se removieron los datos atípicos \"Colesterol serico\"\n",
    "Total_Atipicos=((Pacientes['Colesterol serico']<Colesterol_minimo)|(Pacientes['Colesterol serico']>Colesterol_maximo)).sum()\n",
    "print(\"El total de datos atípicos de Colesterol serico es {}\".format(Total_Atipicos))\n",
    "\n",
    "# Validar si se removieron los datos atípicos \"Frecuencia maxima alcanzada\"\n",
    "Total_Atipicos=((Pacientes['Frecuencia maxima alcanzada']<Frecuencia_minimo)|(Pacientes['Frecuencia maxima alcanzada']>Frecuencia_maximo)).sum()\n",
    "print(\"El total de datos atípicos de la Frecuencia maxima alcanzada es {}\".format(Total_Atipicos))"
   ]
  },
  {
   "cell_type": "code",
   "execution_count": 145,
   "id": "53ebe422-db18-4b5a-8950-60957aef62ce",
   "metadata": {},
   "outputs": [
    {
     "name": "stdout",
     "output_type": "stream",
     "text": [
      "<class 'pandas.core.frame.DataFrame'>\n",
      "Index: 206 entries, 1 to 296\n",
      "Data columns (total 14 columns):\n",
      " #   Column                                      Non-Null Count  Dtype  \n",
      "---  ------                                      --------------  -----  \n",
      " 0   Edad                                        206 non-null    int64  \n",
      " 1   Sexo                                        206 non-null    int64  \n",
      " 2   Tipo de dolor toracico                      206 non-null    int64  \n",
      " 3   Presion arterial en reposo                  206 non-null    int64  \n",
      " 4   Colesterol serico                           206 non-null    int64  \n",
      " 5   Glucosemina en ayunas                       206 non-null    int64  \n",
      " 6   Resultados electrocardiograficos en reposo  206 non-null    int64  \n",
      " 7   Frecuencia maxima alcanzada                 206 non-null    int64  \n",
      " 8   Angina inducida por el ejercicio            206 non-null    int64  \n",
      " 9   Deprecion del segmento ST                   206 non-null    float64\n",
      " 10  Pendiente del ejercicio maximo segmento St  206 non-null    int64  \n",
      " 11  Numero de vasos principales                 206 non-null    int64  \n",
      " 12  thal                                        206 non-null    int64  \n",
      " 13  Condicion                                   206 non-null    int64  \n",
      "dtypes: float64(1), int64(13)\n",
      "memory usage: 24.1 KB\n"
     ]
    }
   ],
   "source": [
    "#Revisión del tipo de datos y datos faltantes\n",
    "\n",
    "Pacientes.info()"
   ]
  },
  {
   "cell_type": "code",
   "execution_count": 146,
   "id": "ed4d3c62-1051-4585-af2d-455f8a95d189",
   "metadata": {},
   "outputs": [
    {
     "data": {
      "text/plain": [
       "Condicion\n",
       "0    117\n",
       "1     89\n",
       "Name: count, dtype: int64"
      ]
     },
     "execution_count": 146,
     "metadata": {},
     "output_type": "execute_result"
    }
   ],
   "source": [
    "# Total de Pacientes con Enfermedad Cardíaca\n",
    "\n",
    "Pacientes['Condicion'].value_counts()"
   ]
  },
  {
   "cell_type": "code",
   "execution_count": 147,
   "id": "e3251fc1-8281-439d-804a-4d4b86d4056c",
   "metadata": {},
   "outputs": [
    {
     "data": {
      "text/html": [
       "<div>\n",
       "<style scoped>\n",
       "    .dataframe tbody tr th:only-of-type {\n",
       "        vertical-align: middle;\n",
       "    }\n",
       "\n",
       "    .dataframe tbody tr th {\n",
       "        vertical-align: top;\n",
       "    }\n",
       "\n",
       "    .dataframe thead th {\n",
       "        text-align: right;\n",
       "    }\n",
       "</style>\n",
       "<table border=\"1\" class=\"dataframe\">\n",
       "  <thead>\n",
       "    <tr style=\"text-align: right;\">\n",
       "      <th></th>\n",
       "      <th>Condicion</th>\n",
       "    </tr>\n",
       "  </thead>\n",
       "  <tbody>\n",
       "    <tr>\n",
       "      <th>1</th>\n",
       "      <td>0</td>\n",
       "    </tr>\n",
       "    <tr>\n",
       "      <th>3</th>\n",
       "      <td>1</td>\n",
       "    </tr>\n",
       "    <tr>\n",
       "      <th>4</th>\n",
       "      <td>0</td>\n",
       "    </tr>\n",
       "    <tr>\n",
       "      <th>6</th>\n",
       "      <td>0</td>\n",
       "    </tr>\n",
       "    <tr>\n",
       "      <th>7</th>\n",
       "      <td>1</td>\n",
       "    </tr>\n",
       "    <tr>\n",
       "      <th>12</th>\n",
       "      <td>1</td>\n",
       "    </tr>\n",
       "    <tr>\n",
       "      <th>14</th>\n",
       "      <td>0</td>\n",
       "    </tr>\n",
       "    <tr>\n",
       "      <th>15</th>\n",
       "      <td>0</td>\n",
       "    </tr>\n",
       "    <tr>\n",
       "      <th>17</th>\n",
       "      <td>0</td>\n",
       "    </tr>\n",
       "    <tr>\n",
       "      <th>18</th>\n",
       "      <td>1</td>\n",
       "    </tr>\n",
       "    <tr>\n",
       "      <th>19</th>\n",
       "      <td>0</td>\n",
       "    </tr>\n",
       "    <tr>\n",
       "      <th>20</th>\n",
       "      <td>0</td>\n",
       "    </tr>\n",
       "    <tr>\n",
       "      <th>21</th>\n",
       "      <td>1</td>\n",
       "    </tr>\n",
       "    <tr>\n",
       "      <th>22</th>\n",
       "      <td>0</td>\n",
       "    </tr>\n",
       "    <tr>\n",
       "      <th>23</th>\n",
       "      <td>0</td>\n",
       "    </tr>\n",
       "    <tr>\n",
       "      <th>27</th>\n",
       "      <td>0</td>\n",
       "    </tr>\n",
       "    <tr>\n",
       "      <th>28</th>\n",
       "      <td>1</td>\n",
       "    </tr>\n",
       "    <tr>\n",
       "      <th>29</th>\n",
       "      <td>0</td>\n",
       "    </tr>\n",
       "    <tr>\n",
       "      <th>30</th>\n",
       "      <td>0</td>\n",
       "    </tr>\n",
       "    <tr>\n",
       "      <th>31</th>\n",
       "      <td>1</td>\n",
       "    </tr>\n",
       "    <tr>\n",
       "      <th>33</th>\n",
       "      <td>1</td>\n",
       "    </tr>\n",
       "    <tr>\n",
       "      <th>34</th>\n",
       "      <td>1</td>\n",
       "    </tr>\n",
       "    <tr>\n",
       "      <th>36</th>\n",
       "      <td>0</td>\n",
       "    </tr>\n",
       "    <tr>\n",
       "      <th>37</th>\n",
       "      <td>0</td>\n",
       "    </tr>\n",
       "    <tr>\n",
       "      <th>38</th>\n",
       "      <td>0</td>\n",
       "    </tr>\n",
       "    <tr>\n",
       "      <th>39</th>\n",
       "      <td>0</td>\n",
       "    </tr>\n",
       "    <tr>\n",
       "      <th>40</th>\n",
       "      <td>0</td>\n",
       "    </tr>\n",
       "    <tr>\n",
       "      <th>41</th>\n",
       "      <td>0</td>\n",
       "    </tr>\n",
       "    <tr>\n",
       "      <th>44</th>\n",
       "      <td>0</td>\n",
       "    </tr>\n",
       "    <tr>\n",
       "      <th>47</th>\n",
       "      <td>0</td>\n",
       "    </tr>\n",
       "    <tr>\n",
       "      <th>48</th>\n",
       "      <td>0</td>\n",
       "    </tr>\n",
       "    <tr>\n",
       "      <th>49</th>\n",
       "      <td>0</td>\n",
       "    </tr>\n",
       "    <tr>\n",
       "      <th>50</th>\n",
       "      <td>0</td>\n",
       "    </tr>\n",
       "    <tr>\n",
       "      <th>51</th>\n",
       "      <td>0</td>\n",
       "    </tr>\n",
       "    <tr>\n",
       "      <th>52</th>\n",
       "      <td>1</td>\n",
       "    </tr>\n",
       "    <tr>\n",
       "      <th>53</th>\n",
       "      <td>0</td>\n",
       "    </tr>\n",
       "    <tr>\n",
       "      <th>54</th>\n",
       "      <td>0</td>\n",
       "    </tr>\n",
       "    <tr>\n",
       "      <th>55</th>\n",
       "      <td>0</td>\n",
       "    </tr>\n",
       "    <tr>\n",
       "      <th>56</th>\n",
       "      <td>0</td>\n",
       "    </tr>\n",
       "    <tr>\n",
       "      <th>57</th>\n",
       "      <td>0</td>\n",
       "    </tr>\n",
       "  </tbody>\n",
       "</table>\n",
       "</div>"
      ],
      "text/plain": [
       "    Condicion\n",
       "1           0\n",
       "3           1\n",
       "4           0\n",
       "6           0\n",
       "7           1\n",
       "12          1\n",
       "14          0\n",
       "15          0\n",
       "17          0\n",
       "18          1\n",
       "19          0\n",
       "20          0\n",
       "21          1\n",
       "22          0\n",
       "23          0\n",
       "27          0\n",
       "28          1\n",
       "29          0\n",
       "30          0\n",
       "31          1\n",
       "33          1\n",
       "34          1\n",
       "36          0\n",
       "37          0\n",
       "38          0\n",
       "39          0\n",
       "40          0\n",
       "41          0\n",
       "44          0\n",
       "47          0\n",
       "48          0\n",
       "49          0\n",
       "50          0\n",
       "51          0\n",
       "52          1\n",
       "53          0\n",
       "54          0\n",
       "55          0\n",
       "56          0\n",
       "57          0"
      ]
     },
     "execution_count": 147,
     "metadata": {},
     "output_type": "execute_result"
    }
   ],
   "source": [
    "Pacientes[['Condicion']].head(40)"
   ]
  },
  {
   "cell_type": "code",
   "execution_count": 149,
   "id": "43649c37-9918-44e2-bf44-f8c29e94d45f",
   "metadata": {},
   "outputs": [],
   "source": [
    "# Porcentaje de datos para entrenamiento (train) = 75% , y para prueba (test) = 25%\n",
    "\n",
    "# Se crean variables X y Y para almacenar la información del entrenamiento\n",
    "\n",
    "X = Pacientes.drop('Condicion',axis=1) # Se cargan los datos de train sin los datos de la columna Condicion \n",
    "Y = Pacientes['Condicion'] # Se cargan los datos de train con los datos de la la columna Condicion \n",
    "\n",
    "#La función train_test_split crea una división de un conjunto de datos en dos bloques uno de entrenamiento y otro de prueba (train and test)\n",
    "X_train, X_test, Y_train, Y_test = train_test_split(X, Y, test_size=0.25, stratify=Y, random_state= 0)"
   ]
  },
  {
   "cell_type": "code",
   "execution_count": 150,
   "id": "3014008b-c546-490c-b396-61ae1d1fee7a",
   "metadata": {},
   "outputs": [
    {
     "name": "stdout",
     "output_type": "stream",
     "text": [
      "     Edad  Sexo  Tipo de dolor toracico  Presion arterial en reposo  \\\n",
      "294    35     1                       3                         120   \n",
      "123    51     1                       2                          94   \n",
      "108    54     1                       2                         120   \n",
      "223    57     1                       3                         140   \n",
      "61     44     1                       1                         120   \n",
      "..    ...   ...                     ...                         ...   \n",
      "163    67     1                       3                         100   \n",
      "41     55     1                       1                         130   \n",
      "198    60     1                       3                         130   \n",
      "34     57     1                       1                         124   \n",
      "126    50     1                       2                         140   \n",
      "\n",
      "     Colesterol serico  Glucosemina en ayunas  \\\n",
      "294                198                      0   \n",
      "123                227                      0   \n",
      "108                258                      0   \n",
      "223                192                      0   \n",
      "61                 220                      0   \n",
      "..                 ...                    ...   \n",
      "163                299                      0   \n",
      "41                 262                      0   \n",
      "198                206                      0   \n",
      "34                 261                      0   \n",
      "126                233                      0   \n",
      "\n",
      "     Resultados electrocardiograficos en reposo  Frecuencia maxima alcanzada  \\\n",
      "294                                           0                          130   \n",
      "123                                           0                          154   \n",
      "108                                           2                          147   \n",
      "223                                           0                          148   \n",
      "61                                            0                          170   \n",
      "..                                          ...                          ...   \n",
      "163                                           2                          125   \n",
      "41                                            0                          155   \n",
      "198                                           2                          132   \n",
      "34                                            0                          141   \n",
      "126                                           0                          163   \n",
      "\n",
      "     Angina inducida por el ejercicio  Deprecion del segmento ST  \\\n",
      "294                                 1                        1.6   \n",
      "123                                 1                        0.0   \n",
      "108                                 0                        0.4   \n",
      "223                                 0                        0.4   \n",
      "61                                  0                        0.0   \n",
      "..                                ...                        ...   \n",
      "163                                 1                        0.9   \n",
      "41                                  0                        0.0   \n",
      "198                                 1                        2.4   \n",
      "34                                  0                        0.3   \n",
      "126                                 0                        0.6   \n",
      "\n",
      "     Pendiente del ejercicio maximo segmento St  Numero de vasos principales  \\\n",
      "294                                           1                            0   \n",
      "123                                           0                            1   \n",
      "108                                           1                            0   \n",
      "223                                           1                            0   \n",
      "61                                            0                            0   \n",
      "..                                          ...                          ...   \n",
      "163                                           1                            2   \n",
      "41                                            0                            0   \n",
      "198                                           1                            2   \n",
      "34                                            0                            0   \n",
      "126                                           1                            1   \n",
      "\n",
      "     thal  \n",
      "294     2  \n",
      "123     2  \n",
      "108     2  \n",
      "223     1  \n",
      "61      0  \n",
      "..    ...  \n",
      "163     0  \n",
      "41      0  \n",
      "198     2  \n",
      "34      2  \n",
      "126     2  \n",
      "\n",
      "[154 rows x 13 columns]\n"
     ]
    }
   ],
   "source": [
    "print (X_train)"
   ]
  },
  {
   "cell_type": "code",
   "execution_count": 151,
   "id": "1b52e85c-90ee-4df8-975d-6151f938dc73",
   "metadata": {},
   "outputs": [
    {
     "name": "stdout",
     "output_type": "stream",
     "text": [
      "294    1\n",
      "123    0\n",
      "108    0\n",
      "223    0\n",
      "61     0\n",
      "      ..\n",
      "163    1\n",
      "41     0\n",
      "198    1\n",
      "34     1\n",
      "126    1\n",
      "Name: Condicion, Length: 154, dtype: int64\n"
     ]
    }
   ],
   "source": [
    "print (Y_train)"
   ]
  },
  {
   "cell_type": "code",
   "execution_count": 152,
   "id": "636c147c-aa71-44dc-a44f-5f16f5a3fc93",
   "metadata": {},
   "outputs": [],
   "source": [
    "# Construir el modelo de regresión logística \n",
    "\n",
    "modelo_regresion = LogisticRegression(solver = \"liblinear\") # liblinear es una libreria para resolver problemas lineales de clasificación y regresión\n",
    "modelo_regresion.fit (X_train , Y_train)   \n",
    "\n",
    "# Crea el modelo de prediccion\n",
    "Prediccion = modelo_regresion.predict(X_test) # la función predict predice los valores a partir del conjunto de datos de validación"
   ]
  },
  {
   "cell_type": "code",
   "execution_count": 153,
   "id": "861c69a6-6962-459c-8fa5-a44f31cbdcd2",
   "metadata": {},
   "outputs": [
    {
     "name": "stdout",
     "output_type": "stream",
     "text": [
      "134    0\n",
      "48     0\n",
      "89     0\n",
      "118    0\n",
      "266    0\n",
      "125    0\n",
      "248    1\n",
      "144    0\n",
      "235    1\n",
      "90     0\n",
      "129    1\n",
      "78     0\n",
      "3      1\n",
      "197    1\n",
      "69     0\n",
      "156    0\n",
      "138    0\n",
      "194    1\n",
      "75     1\n",
      "246    1\n",
      "47     0\n",
      "65     0\n",
      "282    1\n",
      "165    0\n",
      "164    1\n",
      "275    0\n",
      "200    1\n",
      "286    0\n",
      "30     0\n",
      "184    1\n",
      "150    0\n",
      "256    0\n",
      "182    1\n",
      "66     0\n",
      "208    1\n",
      "148    0\n",
      "236    1\n",
      "127    0\n",
      "276    0\n",
      "98     1\n",
      "131    0\n",
      "261    0\n",
      "260    1\n",
      "243    1\n",
      "53     0\n",
      "147    0\n",
      "23     0\n",
      "159    1\n",
      "135    0\n",
      "12     1\n",
      "291    1\n",
      "133    1\n",
      "Name: Condicion, dtype: int64\n"
     ]
    }
   ],
   "source": [
    "print (Y_test)"
   ]
  },
  {
   "cell_type": "code",
   "execution_count": 154,
   "id": "6e481769-63e9-4f79-bda8-0ff8afaa3e69",
   "metadata": {},
   "outputs": [
    {
     "name": "stdout",
     "output_type": "stream",
     "text": [
      "[0 0 0 0 0 0 1 0 1 1 1 1 0 1 0 0 0 1 1 1 0 0 1 1 0 1 1 1 0 1 0 1 0 0 1 0 1\n",
      " 0 0 1 0 0 1 1 0 0 0 1 0 0 1 0]\n"
     ]
    }
   ],
   "source": [
    "print(Prediccion)"
   ]
  },
  {
   "cell_type": "code",
   "execution_count": 155,
   "id": "16991148-248c-41fe-8f6d-99e67c7644d6",
   "metadata": {},
   "outputs": [
    {
     "name": "stdout",
     "output_type": "stream",
     "text": [
      "              precision    recall  f1-score   support\n",
      "\n",
      "           0       0.83      0.80      0.81        30\n",
      "           1       0.74      0.77      0.76        22\n",
      "\n",
      "    accuracy                           0.79        52\n",
      "   macro avg       0.78      0.79      0.78        52\n",
      "weighted avg       0.79      0.79      0.79        52\n",
      "\n"
     ]
    }
   ],
   "source": [
    "# Desempeño del modelo de regresión\n",
    "\n",
    "print(classification_report(Y_test,Prediccion))"
   ]
  },
  {
   "cell_type": "code",
   "execution_count": 156,
   "id": "3e32ec8c-c932-4084-9747-b450d8fe8f03",
   "metadata": {},
   "outputs": [
    {
     "data": {
      "text/plain": [
       "<sklearn.metrics._plot.confusion_matrix.ConfusionMatrixDisplay at 0x1b1d0afa110>"
      ]
     },
     "execution_count": 156,
     "metadata": {},
     "output_type": "execute_result"
    },
    {
     "data": {
      "image/png": "[encoded data removed]",
      "text/plain": [
       "<Figure size 640x480 with 2 Axes>"
      ]
     },
     "metadata": {},
     "output_type": "display_data"
    }
   ],
   "source": [
    "#Matrix de Confusión del modelo\n",
    "\n",
    "cm=confusion_matrix(Y_test,Prediccion)\n",
    "disp=metrics.ConfusionMatrixDisplay(confusion_matrix=cm)\n",
    "disp.plot()"
   ]
  },
  {
   "cell_type": "code",
   "execution_count": 157,
   "id": "fb2d24f3-6132-4dba-b4fb-3ff0b5f7a108",
   "metadata": {},
   "outputs": [
    {
     "data": {
      "image/png": "[encoded data removed]",
      "text/plain": [
       "<Figure size 640x480 with 1 Axes>"
      ]
     },
     "metadata": {},
     "output_type": "display_data"
    }
   ],
   "source": [
    "# Curva de precisón del modelo\n",
    "\n",
    "from sklearn.metrics import RocCurveDisplay\n",
    "RocCurveDisplay.from_predictions(Y_test, Prediccion)\n",
    "plt.show()"
   ]
  },
  {
   "cell_type": "code",
   "execution_count": null,
   "id": "49438fe8-5276-4c0f-98c7-d803e678ad4b",
   "metadata": {},
   "outputs": [],
   "source": []
  }
 ],
 "metadata": {
  "kernelspec": {
   "display_name": "Python 3 (ipykernel)",
   "language": "python",
   "name": "python3"
  },
  "language_info": {
   "codemirror_mode": {
    "name": "ipython",
    "version": 3
   },
   "file_extension": ".py",
   "mimetype": "text/x-python",
   "name": "python",
   "nbconvert_exporter": "python",
   "pygments_lexer": "ipython3",
   "version": "3.11.7"
  }
 },
 "nbformat": 4,
 "nbformat_minor": 5
}
